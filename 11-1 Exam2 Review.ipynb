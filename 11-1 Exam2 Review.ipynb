{
 "cells": [
  {
   "cell_type": "markdown",
   "metadata": {},
   "source": [
    "# Exam 2<br>\n",
    "* Linear Regression\n",
    "* Logistic Regression\n",
    "* Cross Validation\n",
    "* Decision Tree\n",
    "* Random Forest\n",
    "* Support Vector Machien\n",
    "\n",
    "##### Closed\n",
    "##### On paper"
   ]
  }
 ],
 "metadata": {
  "kernelspec": {
   "display_name": "Python 3.9.12 ('base')",
   "language": "python",
   "name": "python3"
  },
  "language_info": {
   "name": "python",
   "version": "3.9.12"
  },
  "orig_nbformat": 4,
  "vscode": {
   "interpreter": {
    "hash": "f6ed3f38b1ef4c16f8a5be48bf66a1aded4ea0eb199bbc31dab9e5edd4e77510"
   }
  }
 },
 "nbformat": 4,
 "nbformat_minor": 2
}
